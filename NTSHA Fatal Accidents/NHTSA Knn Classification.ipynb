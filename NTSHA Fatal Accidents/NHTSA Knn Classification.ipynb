{
 "cells": [
  {
   "cell_type": "markdown",
   "metadata": {
    "id": "Bqj-4GcgnnAr"
   },
   "source": [
    "# K-Nearest Neighbor Classification\n",
    "\n",
    "After perform Exploratory Data Analysis, it is needed to make prediction about the classification for our model. In this section, I choose to use the K-Nearest Neighbor (KNN) to perform the data classification.\n",
    "\n",
    "We will look through both **BEST** and **WORST** cases, based on my choosen independent variable with the number of Fatality from each cases in the dataset. The result may help us analyze what aspects yeild the most fatalities in the highway car accidents."
   ]
  },
  {
   "cell_type": "code",
   "execution_count": 1,
   "metadata": {
    "id": "gdXDRgaXQrzh"
   },
   "outputs": [],
   "source": [
    "# Import libraries\n",
    "import pandas as pd\n",
    "import matplotlib.pyplot as plt\n",
    "%matplotlib inline\n",
    "import numpy as np\n",
    "import seaborn as sns\n",
    "from sklearn.neighbors import KNeighborsClassifier\n",
    "from sklearn.metrics import accuracy_score"
   ]
  },
  {
   "cell_type": "markdown",
   "metadata": {
    "id": "4BmOWTu3n6iK"
   },
   "source": [
    "**Use the same file as in the EDA.**"
   ]
  },
  {
   "cell_type": "code",
   "execution_count": 2,
   "metadata": {},
   "outputs": [],
   "source": [
    "#Data source: \n",
    "#https://www.nhtsa.gov/file-downloads?p=nhtsa/downloads/FARS/"
   ]
  },
  {
   "cell_type": "code",
   "execution_count": 3,
   "metadata": {
    "colab": {
     "base_uri": "https://localhost:8080/"
    },
    "id": "yOx4-z07Q6Vv",
    "outputId": "4b20a42a-1542-41ee-8b74-71ff54231e11"
   },
   "outputs": [
    {
     "name": "stderr",
     "output_type": "stream",
     "text": [
      "C:\\Users\\PREDATOR\\anaconda3\\lib\\site-packages\\IPython\\core\\interactiveshell.py:3444: DtypeWarning: Columns (40,42) have mixed types.Specify dtype option on import or set low_memory=False.\n",
      "  exec(code_obj, self.user_global_ns, self.user_ns)\n"
     ]
    },
    {
     "data": {
      "text/html": [
       "<div>\n",
       "<style scoped>\n",
       "    .dataframe tbody tr th:only-of-type {\n",
       "        vertical-align: middle;\n",
       "    }\n",
       "\n",
       "    .dataframe tbody tr th {\n",
       "        vertical-align: top;\n",
       "    }\n",
       "\n",
       "    .dataframe thead th {\n",
       "        text-align: right;\n",
       "    }\n",
       "</style>\n",
       "<table border=\"1\" class=\"dataframe\">\n",
       "  <thead>\n",
       "    <tr style=\"text-align: right;\">\n",
       "      <th></th>\n",
       "      <th>STATE</th>\n",
       "      <th>STATENAME</th>\n",
       "      <th>ST_CASE</th>\n",
       "      <th>VE_TOTAL</th>\n",
       "      <th>VE_FORMS</th>\n",
       "      <th>PVH_INVL</th>\n",
       "      <th>PEDS</th>\n",
       "      <th>PERSONS</th>\n",
       "      <th>PERMVIT</th>\n",
       "      <th>PERNOTMVIT</th>\n",
       "      <th>...</th>\n",
       "      <th>HOSP_MN</th>\n",
       "      <th>HOSP_MNNAME</th>\n",
       "      <th>CF1</th>\n",
       "      <th>CF1NAME</th>\n",
       "      <th>CF2</th>\n",
       "      <th>CF2NAME</th>\n",
       "      <th>CF3</th>\n",
       "      <th>CF3NAME</th>\n",
       "      <th>FATALS</th>\n",
       "      <th>DRUNK_DR</th>\n",
       "    </tr>\n",
       "  </thead>\n",
       "  <tbody>\n",
       "    <tr>\n",
       "      <th>15136</th>\n",
       "      <td>24</td>\n",
       "      <td>Maryland</td>\n",
       "      <td>240001</td>\n",
       "      <td>2</td>\n",
       "      <td>2</td>\n",
       "      <td>0</td>\n",
       "      <td>1</td>\n",
       "      <td>3</td>\n",
       "      <td>3</td>\n",
       "      <td>1</td>\n",
       "      <td>...</td>\n",
       "      <td>88</td>\n",
       "      <td>Not Applicable (Not Transported)</td>\n",
       "      <td>0</td>\n",
       "      <td>None</td>\n",
       "      <td>0</td>\n",
       "      <td>None</td>\n",
       "      <td>0</td>\n",
       "      <td>None</td>\n",
       "      <td>1</td>\n",
       "      <td>0</td>\n",
       "    </tr>\n",
       "    <tr>\n",
       "      <th>15137</th>\n",
       "      <td>24</td>\n",
       "      <td>Maryland</td>\n",
       "      <td>240002</td>\n",
       "      <td>3</td>\n",
       "      <td>3</td>\n",
       "      <td>0</td>\n",
       "      <td>0</td>\n",
       "      <td>3</td>\n",
       "      <td>3</td>\n",
       "      <td>0</td>\n",
       "      <td>...</td>\n",
       "      <td>88</td>\n",
       "      <td>Not Applicable (Not Transported)</td>\n",
       "      <td>0</td>\n",
       "      <td>None</td>\n",
       "      <td>0</td>\n",
       "      <td>None</td>\n",
       "      <td>0</td>\n",
       "      <td>None</td>\n",
       "      <td>1</td>\n",
       "      <td>0</td>\n",
       "    </tr>\n",
       "    <tr>\n",
       "      <th>15138</th>\n",
       "      <td>24</td>\n",
       "      <td>Maryland</td>\n",
       "      <td>240003</td>\n",
       "      <td>2</td>\n",
       "      <td>2</td>\n",
       "      <td>0</td>\n",
       "      <td>1</td>\n",
       "      <td>4</td>\n",
       "      <td>4</td>\n",
       "      <td>1</td>\n",
       "      <td>...</td>\n",
       "      <td>99</td>\n",
       "      <td>Unknown EMS Hospital Arrival Time</td>\n",
       "      <td>0</td>\n",
       "      <td>None</td>\n",
       "      <td>0</td>\n",
       "      <td>None</td>\n",
       "      <td>0</td>\n",
       "      <td>None</td>\n",
       "      <td>1</td>\n",
       "      <td>0</td>\n",
       "    </tr>\n",
       "    <tr>\n",
       "      <th>15139</th>\n",
       "      <td>24</td>\n",
       "      <td>Maryland</td>\n",
       "      <td>240004</td>\n",
       "      <td>1</td>\n",
       "      <td>1</td>\n",
       "      <td>0</td>\n",
       "      <td>1</td>\n",
       "      <td>1</td>\n",
       "      <td>1</td>\n",
       "      <td>1</td>\n",
       "      <td>...</td>\n",
       "      <td>99</td>\n",
       "      <td>Unknown EMS Hospital Arrival Time</td>\n",
       "      <td>0</td>\n",
       "      <td>None</td>\n",
       "      <td>0</td>\n",
       "      <td>None</td>\n",
       "      <td>0</td>\n",
       "      <td>None</td>\n",
       "      <td>1</td>\n",
       "      <td>0</td>\n",
       "    </tr>\n",
       "    <tr>\n",
       "      <th>15140</th>\n",
       "      <td>24</td>\n",
       "      <td>Maryland</td>\n",
       "      <td>240005</td>\n",
       "      <td>2</td>\n",
       "      <td>2</td>\n",
       "      <td>0</td>\n",
       "      <td>0</td>\n",
       "      <td>2</td>\n",
       "      <td>2</td>\n",
       "      <td>0</td>\n",
       "      <td>...</td>\n",
       "      <td>88</td>\n",
       "      <td>Not Applicable (Not Transported)</td>\n",
       "      <td>26</td>\n",
       "      <td>Prior Non-Recurring Incident</td>\n",
       "      <td>0</td>\n",
       "      <td>None</td>\n",
       "      <td>0</td>\n",
       "      <td>None</td>\n",
       "      <td>1</td>\n",
       "      <td>0</td>\n",
       "    </tr>\n",
       "  </tbody>\n",
       "</table>\n",
       "<p>5 rows × 91 columns</p>\n",
       "</div>"
      ],
      "text/plain": [
       "       STATE STATENAME  ST_CASE  VE_TOTAL  VE_FORMS  PVH_INVL  PEDS  PERSONS  \\\n",
       "15136     24  Maryland   240001         2         2         0     1        3   \n",
       "15137     24  Maryland   240002         3         3         0     0        3   \n",
       "15138     24  Maryland   240003         2         2         0     1        4   \n",
       "15139     24  Maryland   240004         1         1         0     1        1   \n",
       "15140     24  Maryland   240005         2         2         0     0        2   \n",
       "\n",
       "       PERMVIT  PERNOTMVIT  ...  HOSP_MN                        HOSP_MNNAME  \\\n",
       "15136        3           1  ...       88   Not Applicable (Not Transported)   \n",
       "15137        3           0  ...       88   Not Applicable (Not Transported)   \n",
       "15138        4           1  ...       99  Unknown EMS Hospital Arrival Time   \n",
       "15139        1           1  ...       99  Unknown EMS Hospital Arrival Time   \n",
       "15140        2           0  ...       88   Not Applicable (Not Transported)   \n",
       "\n",
       "       CF1                       CF1NAME  CF2  CF2NAME  CF3 CF3NAME  FATALS  \\\n",
       "15136    0                          None    0     None    0    None       1   \n",
       "15137    0                          None    0     None    0    None       1   \n",
       "15138    0                          None    0     None    0    None       1   \n",
       "15139    0                          None    0     None    0    None       1   \n",
       "15140   26  Prior Non-Recurring Incident    0     None    0    None       1   \n",
       "\n",
       "       DRUNK_DR  \n",
       "15136         0  \n",
       "15137         0  \n",
       "15138         0  \n",
       "15139         0  \n",
       "15140         0  \n",
       "\n",
       "[5 rows x 91 columns]"
      ]
     },
     "execution_count": 3,
     "metadata": {},
     "output_type": "execute_result"
    }
   ],
   "source": [
    "# Import the orginal dataset\n",
    "accident_data = pd.read_csv('accident.csv',encoding_errors='ignore')\n",
    "df=accident_data.loc[accident_data['STATENAME']==\"Maryland\"]\n",
    "df.head(5)"
   ]
  },
  {
   "cell_type": "markdown",
   "metadata": {},
   "source": [
    "Just like the EDA, I will only analyze the accidents in **Maryland** state."
   ]
  },
  {
   "cell_type": "markdown",
   "metadata": {
    "id": "fZSDPpqBoL3q"
   },
   "source": [
    "**Use FATALS Column as the Dependent Variable in the Classfication Analysis.**"
   ]
  },
  {
   "cell_type": "code",
   "execution_count": 4,
   "metadata": {
    "colab": {
     "base_uri": "https://localhost:8080/"
    },
    "id": "Ir6QozxZRS-4",
    "outputId": "1dcbff66-6947-4e39-c5b8-b71b62422b56"
   },
   "outputs": [
    {
     "data": {
      "text/plain": [
       "15136    1\n",
       "15137    1\n",
       "15138    1\n",
       "15139    1\n",
       "15140    1\n",
       "Name: FATALS, dtype: int64"
      ]
     },
     "execution_count": 4,
     "metadata": {},
     "output_type": "execute_result"
    }
   ],
   "source": [
    "Y=df['FATALS'].copy()\n",
    "Y.head(5)"
   ]
  },
  {
   "cell_type": "markdown",
   "metadata": {
    "id": "BmZeL8I8oYp5"
   },
   "source": [
    "## Best Case - K Nearest Neighbor Classification"
   ]
  },
  {
   "cell_type": "markdown",
   "metadata": {},
   "source": [
    "For the best case, my assumption is that the number of fatality is depend on the number of drunk driver, the type of area (urban or rural), and the first harmful event."
   ]
  },
  {
   "cell_type": "markdown",
   "metadata": {},
   "source": [
    "**Terminology**\n",
    "\n",
    "1. **First Harmful Event**\n",
    "**Label**: HARM_EV\n",
    "**Definition**: This data element describes the first injury or damage producing event of the crash.\n",
    "\n",
    "2. **Number of Drinking Drivers**\n",
    "**Label**: DRUNK_DR\n",
    "**Definition**: This data element records the number of drinking drivers involved in the crash. \n",
    "\n",
    "3. **Land Use**\n",
    "**Label**: RUR_URB\n",
    "**Definition**: This data element identifies the classification of the segment of the trafficway on which the crash occurred based on FHWA-approved adjusted Census boundaries of small urban and urbanized areas.\n",
    "   \n",
    "**Sources**: https://crashstats.nhtsa.dot.gov/Api/Public/ViewPublication/813254"
   ]
  },
  {
   "cell_type": "code",
   "execution_count": 5,
   "metadata": {
    "colab": {
     "base_uri": "https://localhost:8080/",
     "height": 424
    },
    "id": "nC-ipa1BXP8A",
    "outputId": "73bd3d6d-0edd-41bc-a782-81abc6e6c6d9"
   },
   "outputs": [
    {
     "data": {
      "text/html": [
       "<div>\n",
       "<style scoped>\n",
       "    .dataframe tbody tr th:only-of-type {\n",
       "        vertical-align: middle;\n",
       "    }\n",
       "\n",
       "    .dataframe tbody tr th {\n",
       "        vertical-align: top;\n",
       "    }\n",
       "\n",
       "    .dataframe thead th {\n",
       "        text-align: right;\n",
       "    }\n",
       "</style>\n",
       "<table border=\"1\" class=\"dataframe\">\n",
       "  <thead>\n",
       "    <tr style=\"text-align: right;\">\n",
       "      <th></th>\n",
       "      <th>DRUNK_DR</th>\n",
       "      <th>HARM_EV</th>\n",
       "      <th>RUR_URB</th>\n",
       "    </tr>\n",
       "  </thead>\n",
       "  <tbody>\n",
       "    <tr>\n",
       "      <th>15136</th>\n",
       "      <td>0</td>\n",
       "      <td>8</td>\n",
       "      <td>2</td>\n",
       "    </tr>\n",
       "    <tr>\n",
       "      <th>15137</th>\n",
       "      <td>0</td>\n",
       "      <td>21</td>\n",
       "      <td>2</td>\n",
       "    </tr>\n",
       "    <tr>\n",
       "      <th>15138</th>\n",
       "      <td>0</td>\n",
       "      <td>8</td>\n",
       "      <td>2</td>\n",
       "    </tr>\n",
       "    <tr>\n",
       "      <th>15139</th>\n",
       "      <td>0</td>\n",
       "      <td>8</td>\n",
       "      <td>2</td>\n",
       "    </tr>\n",
       "    <tr>\n",
       "      <th>15140</th>\n",
       "      <td>0</td>\n",
       "      <td>12</td>\n",
       "      <td>2</td>\n",
       "    </tr>\n",
       "  </tbody>\n",
       "</table>\n",
       "</div>"
      ],
      "text/plain": [
       "       DRUNK_DR  HARM_EV  RUR_URB\n",
       "15136         0        8        2\n",
       "15137         0       21        2\n",
       "15138         0        8        2\n",
       "15139         0        8        2\n",
       "15140         0       12        2"
      ]
     },
     "execution_count": 5,
     "metadata": {},
     "output_type": "execute_result"
    }
   ],
   "source": [
    "# Setting independent variables\n",
    "X=df[['DRUNK_DR','HARM_EV','RUR_URB']].copy()\n",
    "X.head(5)"
   ]
  },
  {
   "cell_type": "markdown",
   "metadata": {
    "id": "ds4HoqPWwkxI"
   },
   "source": [
    "**Scatterplot each combination of Independent and Dependent variables**"
   ]
  },
  {
   "cell_type": "code",
   "execution_count": 6,
   "metadata": {
    "colab": {
     "base_uri": "https://localhost:8080/",
     "height": 282
    },
    "id": "oRe5A_7faE54",
    "outputId": "5e69c486-a454-4145-ed43-9e5f114d5164"
   },
   "outputs": [
    {
     "data": {
      "image/png": "[encoded data removed]",
      "text/plain": [
       "<Figure size 432x288 with 1 Axes>"
      ]
     },
     "metadata": {
      "needs_background": "light"
     },
     "output_type": "display_data"
    },
    {
     "data": {
      "image/png": "[encoded data removed]",
      "text/plain": [
       "<Figure size 432x288 with 1 Axes>"
      ]
     },
     "metadata": {
      "needs_background": "light"
     },
     "output_type": "display_data"
    },
    {
     "data": {
      "image/png": "[encoded data removed]",
      "text/plain": [
       "<Figure size 432x288 with 1 Axes>"
      ]
     },
     "metadata": {
      "needs_background": "light"
     },
     "output_type": "display_data"
    }
   ],
   "source": [
    "for col in X:\n",
    "  plt.scatter(X[col],Y)\n",
    "  plt.show()"
   ]
  },
  {
   "cell_type": "markdown",
   "metadata": {
    "id": "3R6h8FZkwuHJ"
   },
   "source": [
    "**Develop your Test Train Split of the data**"
   ]
  },
  {
   "cell_type": "markdown",
   "metadata": {},
   "source": [
    "After define the independent and dependent variables, I will split the data in 3, 2/3 of the data is to train, and the other will be tested to make prediction."
   ]
  },
  {
   "cell_type": "code",
   "execution_count": 7,
   "metadata": {
    "id": "k7kWkqo0YAXS"
   },
   "outputs": [],
   "source": [
    "from sklearn.model_selection import train_test_split\n",
    "X_train, X_test, Y_train, Y_test = train_test_split(X, Y, test_size=1/3, random_state=1)"
   ]
  },
  {
   "cell_type": "markdown",
   "metadata": {
    "id": "CTbBawaWw0cC"
   },
   "source": [
    "**Perform the Classification Analysis using 1 to 10 Nearest Neighbors.**"
   ]
  },
  {
   "cell_type": "markdown",
   "metadata": {},
   "source": [
    "We will see the accurary of the model as the number of nearest negihbors increase from 1 to 10. We will see how well the model is."
   ]
  },
  {
   "cell_type": "code",
   "execution_count": 8,
   "metadata": {},
   "outputs": [],
   "source": [
    "numNeighbors = [1,2,3,4,5,6,7,8,9,10]\n",
    "\n",
    "#KNN Classification\n",
    "def knnClasification(numNeighbors,X_train, X_test, Y_train, Y_test):\n",
    "    trainAcc = []\n",
    "    testAcc = []\n",
    "    for k in numNeighbors:\n",
    "        clf = KNeighborsClassifier(n_neighbors=k, metric='minkowski', p=2)\n",
    "        clf.fit(X_train, Y_train)\n",
    "        Y_predTrain = clf.predict(X_train)\n",
    "        Y_predTest = clf.predict(X_test)\n",
    "        trainAcc.append(accuracy_score(Y_train, Y_predTrain))\n",
    "        testAcc.append(accuracy_score(Y_test, Y_predTest))\n",
    "    return trainAcc, testAcc"
   ]
  },
  {
   "cell_type": "code",
   "execution_count": 9,
   "metadata": {},
   "outputs": [
    {
     "data": {
      "text/plain": [
       "Text(0, 0.5, 'Accuracy')"
      ]
     },
     "execution_count": 9,
     "metadata": {},
     "output_type": "execute_result"
    },
    {
     "data": {
      "image/png": "[encoded data removed]",
      "text/plain": [
       "<Figure size 432x288 with 1 Axes>"
      ]
     },
     "metadata": {
      "needs_background": "light"
     },
     "output_type": "display_data"
    }
   ],
   "source": [
    "trainAcc, testAcc = knnClasification(numNeighbors,X_train, X_test, Y_train, Y_test)\n",
    "\n",
    "# Plot the graph\n",
    "plt.plot(numNeighbors, trainAcc, 'ro-', numNeighbors, testAcc,'bv--')\n",
    "plt.legend(['Training Accuracy','Test Accuracy'])\n",
    "plt.xlabel('Number of neighbors')\n",
    "plt.ylabel('Accuracy')"
   ]
  },
  {
   "cell_type": "code",
   "execution_count": 10,
   "metadata": {},
   "outputs": [
    {
     "name": "stdout",
     "output_type": "stream",
     "text": [
      "['0.92', '0.92', '0.92', '0.92', '0.92', '0.92', '0.92', '0.92', '0.92', '0.92']\n"
     ]
    }
   ],
   "source": [
    "# Test Accuracy as number of nearest neighbors increase\n",
    "formattedTestAcc = [\"%.2f\" % member for member in testAcc]\n",
    "print(formattedTestAcc)"
   ]
  },
  {
   "cell_type": "markdown",
   "metadata": {
    "id": "LQ5fGIMvw-Ki"
   },
   "source": [
    "## Worst Case - K Nearest Neighbor Classification"
   ]
  },
  {
   "cell_type": "markdown",
   "metadata": {},
   "source": [
    "For the worst case, my assumption is that the number of fatality is depend on the route, milepoint, and the reason reported behind the fatal crashes."
   ]
  },
  {
   "cell_type": "markdown",
   "metadata": {},
   "source": [
    "**Terminology**\n",
    "\n",
    "1. **Milepoint**\n",
    "**Label**: MILEPT\n",
    "**Definition**: This data element records the milepoint nearest to the location where the crash occurred\n",
    "\n",
    "2. **Related Factors- Crash Level 1**\n",
    "**Label**: CF1\n",
    "**Definition**: This data element records factors related to the crash expressed in the case material.\n",
    "\n",
    "3. **Route Signing**\n",
    "**Label**: ROUTE\n",
    "**Definition**: This data element identifies the route signing of the trafficway on which the crash \n",
    "\n",
    "**Sources**: https://crashstats.nhtsa.dot.gov/Api/Public/ViewPublication/813254"
   ]
  },
  {
   "cell_type": "code",
   "execution_count": 11,
   "metadata": {
    "colab": {
     "base_uri": "https://localhost:8080/",
     "height": 424
    },
    "id": "psK8T7GSsrPS",
    "outputId": "3982146a-9cac-45c3-d35d-32e84ab73342"
   },
   "outputs": [
    {
     "data": {
      "text/html": [
       "<div>\n",
       "<style scoped>\n",
       "    .dataframe tbody tr th:only-of-type {\n",
       "        vertical-align: middle;\n",
       "    }\n",
       "\n",
       "    .dataframe tbody tr th {\n",
       "        vertical-align: top;\n",
       "    }\n",
       "\n",
       "    .dataframe thead th {\n",
       "        text-align: right;\n",
       "    }\n",
       "</style>\n",
       "<table border=\"1\" class=\"dataframe\">\n",
       "  <thead>\n",
       "    <tr style=\"text-align: right;\">\n",
       "      <th></th>\n",
       "      <th>ROUTE</th>\n",
       "      <th>MILEPT</th>\n",
       "      <th>CF1</th>\n",
       "    </tr>\n",
       "  </thead>\n",
       "  <tbody>\n",
       "    <tr>\n",
       "      <th>15136</th>\n",
       "      <td>3</td>\n",
       "      <td>17</td>\n",
       "      <td>0</td>\n",
       "    </tr>\n",
       "    <tr>\n",
       "      <th>15137</th>\n",
       "      <td>1</td>\n",
       "      <td>317</td>\n",
       "      <td>0</td>\n",
       "    </tr>\n",
       "    <tr>\n",
       "      <th>15138</th>\n",
       "      <td>3</td>\n",
       "      <td>30</td>\n",
       "      <td>0</td>\n",
       "    </tr>\n",
       "    <tr>\n",
       "      <th>15139</th>\n",
       "      <td>6</td>\n",
       "      <td>2</td>\n",
       "      <td>0</td>\n",
       "    </tr>\n",
       "    <tr>\n",
       "      <th>15140</th>\n",
       "      <td>1</td>\n",
       "      <td>143</td>\n",
       "      <td>26</td>\n",
       "    </tr>\n",
       "  </tbody>\n",
       "</table>\n",
       "</div>"
      ],
      "text/plain": [
       "       ROUTE  MILEPT  CF1\n",
       "15136      3      17    0\n",
       "15137      1     317    0\n",
       "15138      3      30    0\n",
       "15139      6       2    0\n",
       "15140      1     143   26"
      ]
     },
     "execution_count": 11,
     "metadata": {},
     "output_type": "execute_result"
    }
   ],
   "source": [
    "X=df[['ROUTE','MILEPT','CF1']].copy()\n",
    "X.head(5)"
   ]
  },
  {
   "cell_type": "markdown",
   "metadata": {
    "id": "70jdATkgswfC"
   },
   "source": [
    "**Scatterplot each combination of Independent and Dependent variables**"
   ]
  },
  {
   "cell_type": "code",
   "execution_count": 12,
   "metadata": {
    "colab": {
     "base_uri": "https://localhost:8080/",
     "height": 761
    },
    "id": "CV0uceT6s38D",
    "outputId": "0b3a1493-b0b7-4388-f0b5-564db0fa73da"
   },
   "outputs": [
    {
     "data": {
      "image/png": "[encoded data removed]",
      "text/plain": [
       "<Figure size 432x288 with 1 Axes>"
      ]
     },
     "metadata": {
      "needs_background": "light"
     },
     "output_type": "display_data"
    },
    {
     "data": {
      "image/png": "[encoded data removed]",
      "text/plain": [
       "<Figure size 432x288 with 1 Axes>"
      ]
     },
     "metadata": {
      "needs_background": "light"
     },
     "output_type": "display_data"
    },
    {
     "data": {
      "image/png": "[encoded data removed]",
      "text/plain": [
       "<Figure size 432x288 with 1 Axes>"
      ]
     },
     "metadata": {
      "needs_background": "light"
     },
     "output_type": "display_data"
    }
   ],
   "source": [
    "for col in X:\n",
    "  plt.scatter(X[col],Y)\n",
    "  plt.show()"
   ]
  },
  {
   "cell_type": "markdown",
   "metadata": {
    "id": "FjIzZc7muhHw"
   },
   "source": [
    "**Develop Test Train Split of the data**"
   ]
  },
  {
   "cell_type": "code",
   "execution_count": 13,
   "metadata": {
    "id": "Qa4vhbRRukPl"
   },
   "outputs": [],
   "source": [
    "X_train, X_test, Y_train, Y_test = train_test_split(X, Y, test_size=1/3, random_state=1)"
   ]
  },
  {
   "cell_type": "markdown",
   "metadata": {
    "id": "DE7MkYzoup0D"
   },
   "source": [
    "**Perform the Classification Analysis using 1 to 10 Nearest Neighbors.**"
   ]
  },
  {
   "cell_type": "code",
   "execution_count": 14,
   "metadata": {
    "colab": {
     "base_uri": "https://localhost:8080/",
     "height": 296
    },
    "id": "QkWl_iznuxog",
    "outputId": "e8f4d003-853a-47f6-ee9a-d8b60d7fc8a7",
    "scrolled": true
   },
   "outputs": [
    {
     "data": {
      "text/plain": [
       "Text(0, 0.5, 'Accuracy')"
      ]
     },
     "execution_count": 14,
     "metadata": {},
     "output_type": "execute_result"
    },
    {
     "data": {
      "image/png": "[encoded data removed]",
      "text/plain": [
       "<Figure size 432x288 with 1 Axes>"
      ]
     },
     "metadata": {
      "needs_background": "light"
     },
     "output_type": "display_data"
    }
   ],
   "source": [
    "trainAcc, testAcc = knnClasification(numNeighbors,X_train, X_test, Y_train, Y_test)\n",
    "\n",
    "# Plot the graph\n",
    "plt.plot(numNeighbors, trainAcc, 'ro-', numNeighbors, testAcc,'bv--')\n",
    "plt.legend(['Training Accuracy','Test Accuracy'])\n",
    "plt.xlabel('Number of neighbors')\n",
    "plt.ylabel('Accuracy')"
   ]
  },
  {
   "cell_type": "code",
   "execution_count": 15,
   "metadata": {},
   "outputs": [
    {
     "name": "stdout",
     "output_type": "stream",
     "text": [
      "['0.81', '0.90', '0.89', '0.92', '0.92', '0.92', '0.92', '0.92', '0.92', '0.92']\n"
     ]
    }
   ],
   "source": [
    "# Test Accuracy as number of nearest neighbor increase\n",
    "formattedTestAcc = [\"%.2f\" % member for member in testAcc]\n",
    "print(formattedTestAcc)"
   ]
  },
  {
   "cell_type": "markdown",
   "metadata": {
    "id": "gaQ58jRzxVbk"
   },
   "source": [
    "## Results"
   ]
  },
  {
   "cell_type": "markdown",
   "metadata": {
    "id": "y-vdJs_IxhpG"
   },
   "source": [
    "For the **good** classification analysis, with dependent variable as the number of fatalities, the test yield a very high acruracy with number of drunk drivers, the type of first harmful event, and the type of area. As we take 1/3 of the data to train, the test accruracy of the 1 nearest neighbor is high, more than 0.92.\n",
    "\n",
    "<br>\n",
    "\n",
    "In the **worst** classification analysis, with dependent variable as the number of fatalities, yield a decent acruracy with the type of route signing, the milepoint nearest to the crash location, and related crash factors. As we take 1/3 of the data to train again, the test accruracy of the 1 nearest neighbor is only 0.81 . We also see a drop in the test accruracy with the 3 nearest neighbors.\n",
    "\n",
    "<br>\n",
    "Overall, there were no significant finding from both good and worst analysis. Due to the limited resources and time, further research is needed."
   ]
  }
 ],
 "metadata": {
  "colab": {
   "collapsed_sections": [],
   "provenance": []
  },
  "kernelspec": {
   "display_name": "Python 3 (ipykernel)",
   "language": "python",
   "name": "python3"
  },
  "language_info": {
   "codemirror_mode": {
    "name": "ipython",
    "version": 3
   },
   "file_extension": ".py",
   "mimetype": "text/x-python",
   "name": "python",
   "nbconvert_exporter": "python",
   "pygments_lexer": "ipython3",
   "version": "3.9.7"
  }
 },
 "nbformat": 4,
 "nbformat_minor": 1
}
